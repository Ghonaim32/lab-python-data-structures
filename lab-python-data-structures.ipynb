{
 "cells": [
  {
   "cell_type": "markdown",
   "metadata": {
    "tags": []
   },
   "source": [
    "# Lab | Data Structures "
   ]
  },
  {
   "cell_type": "markdown",
   "metadata": {},
   "source": [
    "## Exercise: Managing Customer Orders\n",
    "\n",
    "As part of a business venture, you are starting an online store that sells various products. To ensure smooth operations, you need to develop a program that manages customer orders and inventory.\n",
    "\n",
    "Follow the steps below to complete the exercise:\n",
    "\n",
    "1. Define a list called `products` that contains the following items: \"t-shirt\", \"mug\", \"hat\", \"book\", \"keychain\".\n",
    "\n",
    "2. Create an empty dictionary called `inventory`.\n",
    "\n",
    "3. Ask the user to input the quantity of each product available in the inventory. Use the product names from the `products` list as keys in the `inventory` dictionary and assign the respective quantities as values.\n",
    "\n",
    "4. Create an empty set called `customer_orders`.\n",
    "\n",
    "5. Ask the user to input the name of three products that a customer wants to order (from those in the products list, meaning three products out of \"t-shirt\", \"mug\", \"hat\", \"book\" or \"keychain\". Add each product name to the `customer_orders` set.\n",
    "\n",
    "6. Print the products in the `customer_orders` set.\n",
    "\n",
    "7. Calculate the following order statistics:\n",
    "   - Total Products Ordered: The total number of products in the `customer_orders` set.\n",
    "   - Percentage of Products Ordered: The percentage of products ordered compared to the total available products.\n",
    "   \n",
    "   Store these statistics in a tuple called `order_status`.\n",
    "\n",
    "8. Print the order statistics using the following format:\n",
    "   ```\n",
    "   Order Statistics:\n",
    "   Total Products Ordered: <total_products_ordered>\n",
    "   Percentage of Products Ordered: <percentage_ordered>% \n",
    "   ```\n",
    "\n",
    "9. Update the inventory by subtracting 1 from the quantity of each product. Modify the `inventory` dictionary accordingly.\n",
    "\n",
    "10. Print the updated inventory, displaying the quantity of each product on separate lines.\n",
    "\n",
    "Solve the exercise by implementing the steps using the Python concepts of lists, dictionaries, sets, and basic input/output operations. "
   ]
  },
  {
   "cell_type": "code",
   "execution_count": 1,
   "metadata": {},
   "outputs": [
    {
     "name": "stdout",
     "output_type": "stream",
     "text": [
      "['t-shirt', 'mug', 'hat', 'book', 'keychain']\n"
     ]
    }
   ],
   "source": [
    "products = [\"t-shirt\", \"mug\", \"hat\", \"book\", \"keychain\"]\n",
    "print(products)"
   ]
  },
  {
   "cell_type": "code",
   "execution_count": 2,
   "metadata": {},
   "outputs": [
    {
     "name": "stdout",
     "output_type": "stream",
     "text": [
      "{'t-shirt': 65, 'mug': 42, 'hat': 34, 'book': 20, 'keychain': 21}\n"
     ]
    }
   ],
   "source": [
    "t_shirt=int(input(\"Please enter the numbers of t-shirts: \"))\n",
    "mug=int(input(\"Please enter the number of mugs: \"))\n",
    "hat=int(input(\"Please enter the number of hats: \"))\n",
    "book=int(input(\"Please enter the number of books: \"))\n",
    "keychain=int(input(\"Please enter the number of keychains: \"))\n",
    "\n",
    "inventory = {}\n",
    "inventory[\"t-shirt\"]=t_shirt\n",
    "inventory[\"mug\"]=mug\n",
    "inventory[\"hat\"]=hat\n",
    "inventory[\"book\"]=book\n",
    "inventory[\"keychain\"]=keychain\n",
    "\n",
    "print(inventory)"
   ]
  },
  {
   "cell_type": "code",
   "execution_count": 3,
   "metadata": {},
   "outputs": [
    {
     "name": "stdout",
     "output_type": "stream",
     "text": [
      "<class 'set'>\n"
     ]
    }
   ],
   "source": [
    "customer_orders = set()\n",
    "customers_orders = {\"t-shirt\", \"mug\", \"hat\", \"book\", \"keychain\"}\n",
    "print(type(customer_orders))"
   ]
  },
  {
   "cell_type": "code",
   "execution_count": 4,
   "metadata": {},
   "outputs": [
    {
     "name": "stdout",
     "output_type": "stream",
     "text": [
      "Product added to cart\n",
      "Product added to cart\n",
      "Product added to cart\n",
      "{'mug', 't-shirt'}\n"
     ]
    }
   ],
   "source": [
    "for i in range(3):\n",
    "    product = input(\"Enter the name of a product you want to order: \")\n",
    "    if product in products:\n",
    "        customer_orders.add(product)\n",
    "        print(\"Product added to cart\")\n",
    "    else:\n",
    "        print(\"Product not in list\")\n",
    "\n",
    "print(customer_orders)\n",
    "\n",
    "# this is not working "
   ]
  },
  {
   "cell_type": "code",
   "execution_count": 5,
   "metadata": {},
   "outputs": [
    {
     "name": "stdout",
     "output_type": "stream",
     "text": [
      "2\n",
      "0.00010989010989010989\n"
     ]
    }
   ],
   "source": [
    "total_products_ordered = len(customer_orders)\n",
    "print(total_products_ordered)\n",
    "\n",
    "percentage_ordered = len(customer_orders)/(sum(inventory.values())*100)\n",
    "print(percentage_ordered)"
   ]
  },
  {
   "cell_type": "code",
   "execution_count": 6,
   "metadata": {},
   "outputs": [
    {
     "name": "stdout",
     "output_type": "stream",
     "text": [
      "<class 'tuple'>\n"
     ]
    }
   ],
   "source": [
    "order_status = (\"total_products_ordered\", \"percentage_ordered\")\n",
    "print(type(order_status))"
   ]
  },
  {
   "cell_type": "code",
   "execution_count": 7,
   "metadata": {},
   "outputs": [
    {
     "name": "stdout",
     "output_type": "stream",
     "text": [
      "Order Statistics:\n",
      "Total Products Ordered: 2\n",
      "Pecentage of Products Ordered: 0.00010989010989010989%\n"
     ]
    }
   ],
   "source": [
    "print(\"Order Statistics\"+\":\")\n",
    "print(\"Total Products Ordered\"+\": \"+ str(total_products_ordered))\n",
    "print(\"Pecentage of Products Ordered\"+\": \"+ str(percentage_ordered)+\"%\")"
   ]
  },
  {
   "cell_type": "code",
   "execution_count": 8,
   "metadata": {},
   "outputs": [
    {
     "name": "stdout",
     "output_type": "stream",
     "text": [
      "{'t-shirt': 65, 'mug': 42, 'hat': 34, 'book': 20, 'keychain': 21}\n",
      "t-shirt 64\n",
      "mug 41\n",
      "hat 33\n",
      "book 19\n",
      "keychain 20\n"
     ]
    }
   ],
   "source": [
    "print(inventory)\n",
    "for key in inventory:\n",
    "   inventory[key] -= 1\n",
    "\n",
    "for key, value in inventory.items():\n",
    "    print(key,value)"
   ]
  }
 ],
 "metadata": {
  "kernelspec": {
   "display_name": "Python 3",
   "language": "python",
   "name": "python3"
  },
  "language_info": {
   "codemirror_mode": {
    "name": "ipython",
    "version": 3
   },
   "file_extension": ".py",
   "mimetype": "text/x-python",
   "name": "python",
   "nbconvert_exporter": "python",
   "pygments_lexer": "ipython3",
   "version": "3.13.7"
  }
 },
 "nbformat": 4,
 "nbformat_minor": 4
}
